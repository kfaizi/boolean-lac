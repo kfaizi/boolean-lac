{
 "cells": [
  {
   "cell_type": "markdown",
   "metadata": {},
   "source": [
    "# A Boolean network model of gene regulation in the bacterial _lac_ operon\n",
    "## Kian Faizi, Math 111A Final Project, Fall 2020"
   ]
  },
  {
   "cell_type": "markdown",
   "metadata": {},
   "source": [
    "My goal is to build off of work described in Veliz-Cuba et al., \"Boolean Models Can Explain Bistability in the _lac_ Operon\", Journal of Computational Biology (2011).\n",
    "\n",
    "Endogenous variables:\n",
    "- lactose, in and out of cell\n",
    "- glucose, in and out of cell\n",
    "- lac RNA\n",
    "- allolactose, inactivates lacI\n",
    "- cAMP, synthesis inhibited at high glucose levels\n",
    "- CAP, complexes with cAMP and binds DNA to enhance transcription\n",
    "- beta-galactosidase (lacZ), cleaves lactose into glucose and galactose, and converts lactose into allolactose\n",
    "- beta-galactoside permease (lacY), imports extracellular lactose, in and out of membrane (?)\n",
    "- lacI, repressor that binds operator\n",
    "\n",
    "Exogenous variables:\n",
    "- RNA polymerase\n",
    "- ribosomes\n",
    "- beta-galactoside transacetylase (lacA)\n",
    "\n",
    "Boolean Functions from the paper, excluding the 'medium' concentration distinction:\n",
    "lac mRNA: CAP AND NOT LacI\n",
    "lacY, lacZ: lac mRNA\n",
    "CAP: NOT glucose (in or out of the cell? check the mechanism for CAP formation) !!\n",
    "lacI: NOT allolactose\n",
    "allolactose in the cell: lacZ AND lactose in the cell\n",
    "lactose in the cell: lacY AND lactose outside the cell AND NOT glucose outside the cell (? check mechanism for glucose. some import can happen by diffusion, right?)\n",
    "\n",
    "My formulations:\n",
    "Lactose: extracellular lactose AND lacY in membrane AND NOT extracellular glucose\n",
    "lac mRNA: CAP-cAMP AND NOT lacI\n",
    "cAMP-CAP: CAP AND cAMP\n",
    "cAMP: NOT glucose (in the cell?)\n",
    "lacZ, lacY: lac mRNA\n",
    "lacI: NOT allolactose\n",
    "allolactose: intracellular lactose AND lacZ\n",
    "\n"
   ]
  },
  {
   "cell_type": "code",
   "execution_count": 2,
   "metadata": {},
   "outputs": [],
   "source": [
    "import networkx as nx\n",
    "import random"
   ]
  },
  {
   "cell_type": "markdown",
   "metadata": {},
   "source": [
    "Defining variables and boolean expressions from first principles:"
   ]
  },
  {
   "cell_type": "code",
   "execution_count": 52,
   "metadata": {},
   "outputs": [
    {
     "name": "stdout",
     "output_type": "stream",
     "text": [
      "['lac_ext', 'gluc_ext', 'cap', 'gluc', 'lac', 'allolac', 'camp', 'lacz', 'lacy', 'laci', 'rna']\n"
     ]
    }
   ],
   "source": [
    "lac_ext = True\n",
    "gluc_ext = False\n",
    "cap = True # assumption: cap is constitutively expressed\n",
    "\n",
    "gluc = gluc_ext or (lac and lacz) # assumption: extracellular glucose is always imported into the cell\n",
    "lac = lac_ext and lacy and not gluc_ext\n",
    "allolac = lac and lacz\n",
    "camp_cap = camp and cap\n",
    "camp = not gluc\n",
    "lacz = rna\n",
    "lacy = rna\n",
    "laci = not allolac\n",
    "rna = camp_cap and not laci\n",
    "\n",
    "mols = ['lac_ext',\n",
    "        'gluc_ext',\n",
    "        'cap',\n",
    "        'gluc',\n",
    "        'lac',\n",
    "        'allolac',\n",
    "        'camp',\n",
    "        'lacz',\n",
    "        'lacy',\n",
    "        'laci',\n",
    "        'rna']\n",
    "\n",
    "DG = nx.DiGraph()\n",
    "DG.add_nodes_from(mols)\n",
    "DG.add_weighted_edges_from([\n",
    "    ('gluc_ext', 'gluc', 1)\n",
    "    ('', '')\n",
    "])"
   ]
  },
  {
   "cell_type": "code",
   "execution_count": null,
   "metadata": {},
   "outputs": [],
   "source": []
  }
 ],
 "metadata": {
  "kernelspec": {
   "display_name": "Python 3",
   "language": "python",
   "name": "python3"
  },
  "language_info": {
   "codemirror_mode": {
    "name": "ipython",
    "version": 3
   },
   "file_extension": ".py",
   "mimetype": "text/x-python",
   "name": "python",
   "nbconvert_exporter": "python",
   "pygments_lexer": "ipython3",
   "version": "3.6.11"
  }
 },
 "nbformat": 4,
 "nbformat_minor": 4
}
