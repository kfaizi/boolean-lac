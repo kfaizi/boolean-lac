{
 "cells": [
  {
   "cell_type": "markdown",
   "metadata": {},
   "source": [
    "# A Boolean network model of gene regulation in the bacterial _lac_ operon\n",
    "## Kian Faizi, Math 111A Final Project, Fall 2020"
   ]
  },
  {
   "cell_type": "markdown",
   "metadata": {},
   "source": [
    "My goal is to build off of work described in Veliz-Cuba et al., \"Boolean Models Can Explain Bistability in the _lac_ Operon\", Journal of Computational Biology (2011).\n",
    "\n",
    "Endogenous variables:\n",
    "- lactose, in and out of cell\n",
    "- glucose, in and out of cell\n",
    "- lac RNA\n",
    "- allolactose, inactivates lacI\n",
    "- cAMP, synthesis inhibited at high glucose levels\n",
    "- CAP, complexes with cAMP and binds DNA to enhance transcription\n",
    "- beta-galactosidase (lacZ), cleaves lactose into glucose and galactose, and converts lactose into allolactose\n",
    "- beta-galactoside permease (lacY), imports extracellular lactose, in and out of membrane (?)\n",
    "- lacI, repressor that binds operator\n",
    "\n",
    "Boolean Functions from the paper, excluding the 'medium' concentration distinction:\n",
    "lac mRNA: CAP AND NOT LacI\n",
    "lacY, lacZ: lac mRNA\n",
    "CAP: NOT glucose (in or out of the cell? check the mechanism for CAP formation) !!\n",
    "lacI: NOT allolactose\n",
    "allolactose in the cell: lacZ AND lactose in the cell\n",
    "lactose in the cell: lacY AND lactose outside the cell AND NOT glucose outside the cell (? check mechanism for glucose. some import can happen by diffusion, right?)\n",
    "\n",
    "My formulations:\n",
    "Lactose: extracellular lactose AND lacY in membrane AND NOT extracellular glucose\n",
    "lac mRNA: CAP-cAMP AND NOT lacI\n",
    "cAMP-CAP: CAP AND cAMP\n",
    "cAMP: NOT glucose (in the cell?)\n",
    "lacZ, lacY: lac mRNA\n",
    "lacI: NOT allolactose\n",
    "allolactose: intracellular lactose AND lacZ\n",
    "\n",
    "Assumptions: cap is constitutively expressed (always True)\n",
    "extracellular glucose is always imported into the cell (so gluc = gluc ext OR (lacz and lac))\n"
   ]
  },
  {
   "cell_type": "code",
   "execution_count": 128,
   "metadata": {},
   "outputs": [],
   "source": [
    "import boolean2 as b2\n",
    "import pylab\n",
    "from boolean2 import util, state, network\n",
    "import networkx as nx\n",
    "import matplotlib.pyplot as plt"
   ]
  },
  {
   "cell_type": "code",
   "execution_count": 304,
   "metadata": {},
   "outputs": [],
   "source": [
    "text = \"\"\"\n",
    "# initial values\n",
    "cap = True\n",
    "lac_ext = Random\n",
    "gluc_ext = Random\n",
    "lac = Random\n",
    "allolac = Random\n",
    "camp_cap = Random\n",
    "camp = Random\n",
    "lacy = Random\n",
    "laci = Random\n",
    "rna = Random\n",
    "\n",
    "# updating rules\n",
    "lac* = (lac_ext and lacy) or (lac_ext and not gluc_ext)\n",
    "allolac* = lac\n",
    "camp_cap* = camp and cap\n",
    "camp* = not gluc_ext\n",
    "lacy* = rna\n",
    "laci* = not allolac\n",
    "rna* = camp_cap and not laci\n",
    "\"\"\""
   ]
  },
  {
   "cell_type": "code",
   "execution_count": 305,
   "metadata": {},
   "outputs": [
    {
     "data": {
      "text/plain": [
       "(-1.1748115542531012,\n",
       " 1.182133883535862,\n",
       " -0.5969454362988472,\n",
       " 0.5969454392790795)"
      ]
     },
     "execution_count": 305,
     "metadata": {},
     "output_type": "execute_result"
    },
    {
     "data": {
      "image/png": "[encoded data removed]",
      "text/plain": [
       "<Figure size 432x288 with 1 Axes>"
      ]
     },
     "metadata": {
      "needs_background": "light"
     },
     "output_type": "display_data"
    }
   ],
   "source": [
    "model = b2.Model(text=text, mode='sync')\n",
    "model.initialize()\n",
    "\n",
    "DG = nx.DiGraph()\n",
    "DG.add_nodes_from(model.nodes)\n",
    "DG.add_edges_from([\n",
    "    ('lac_ext','lac',{'weight':1}),\n",
    "    ('lacy','lac',{'weight':1}),\n",
    "    ('lac','allolac',{'weight':1}),\n",
    "    ('camp','camp_cap',{'weight':1}),\n",
    "    ('cap','camp_cap',{'weight':1}),\n",
    "    ('gluc_ext','camp',{'weight':-1}),\n",
    "    ('rna','lacy',{'weight':1}),\n",
    "    ('allolac','laci',{'weight':-1}),\n",
    "    ('camp_cap','rna',{'weight':1}),\n",
    "    ('laci','rna',{'weight':-1})\n",
    "])\n",
    "\n",
    "shells = [\n",
    "    ['lac','allolac','camp_cap','camp','cap','rna','laci','lacy'],\n",
    "    ['lac_ext','gluc_ext'] # outer last\n",
    "]\n",
    "\n",
    "\n",
    "epos=[(u,v) for (u,v,d) in DG.edges(data=True) if d['weight']==1]\n",
    "eneg=[(u,v) for (u,v,d) in DG.edges(data=True) if d['weight']==-1]\n",
    "pos = nx.shell_layout(DG, nlist=shells)\n",
    "nx.draw_networkx_nodes(DG, pos, node_size=200,with_labels=True,node_color='orange')\n",
    "nx.draw_networkx_edges(DG,pos,edgelist=epos,arrowstyle='->')\n",
    "nx.draw_networkx_edges(DG,pos,edgelist=eneg,arrowstyle='-[')\n",
    "\n",
    "label_abbrev = {\n",
    "    'lac_ext' : 'Le',\n",
    "    'cap' : 'Ca',\n",
    "    'gluc_ext' : 'Ge',\n",
    "    'lac' : 'L',\n",
    "    'allolac' : 'Al',\n",
    "    'camp_cap' : 'Cc',\n",
    "    'camp' : 'Cm',\n",
    "    'lacy' : 'Ly',\n",
    "    'laci' : 'Li',\n",
    "    'rna' : 'R',\n",
    "}\n",
    "nx.draw_networkx_labels(DG,pos,labels=label_abbrev)\n",
    "plt.axis('off')\n",
    "#plt.savefig('wiring.png')  "
   ]
  },
  {
   "cell_type": "code",
   "execution_count": 309,
   "metadata": {},
   "outputs": [
    {
     "name": "stdout",
     "output_type": "stream",
     "text": [
      "344\n",
      "State: allolac=True, camp=True, camp_cap=True, cap=True, gluc_ext=True, lac=True, lac_ext=True, laci=False, lacy=True, rna=True\n",
      "29\n",
      "State: allolac=True, camp=True, camp_cap=True, cap=True, gluc_ext=False, lac=True, lac_ext=True, laci=False, lacy=True, rna=True\n",
      "29\n",
      "State: allolac=True, camp=True, camp_cap=True, cap=True, gluc_ext=False, lac=True, lac_ext=True, laci=False, lacy=True, rna=True\n",
      "366\n",
      "State: allolac=False, camp=True, camp_cap=True, cap=True, gluc_ext=True, lac=False, lac_ext=False, laci=False, lacy=True, rna=True\n",
      "80\n",
      "State: allolac=False, camp=True, camp_cap=True, cap=True, gluc_ext=False, lac=False, lac_ext=False, laci=False, lacy=True, rna=True\n",
      "366\n",
      "State: allolac=False, camp=True, camp_cap=True, cap=True, gluc_ext=True, lac=False, lac_ext=False, laci=False, lacy=True, rna=True\n",
      "366\n",
      "State: allolac=False, camp=True, camp_cap=True, cap=True, gluc_ext=True, lac=False, lac_ext=False, laci=False, lacy=True, rna=True\n",
      "344\n",
      "State: allolac=True, camp=True, camp_cap=True, cap=True, gluc_ext=True, lac=True, lac_ext=True, laci=False, lacy=True, rna=True\n",
      "344\n",
      "State: allolac=True, camp=True, camp_cap=True, cap=True, gluc_ext=True, lac=True, lac_ext=True, laci=False, lacy=True, rna=True\n",
      "80\n",
      "State: allolac=False, camp=True, camp_cap=True, cap=True, gluc_ext=False, lac=False, lac_ext=False, laci=False, lacy=True, rna=True\n",
      "29\n",
      "State: allolac=True, camp=True, camp_cap=True, cap=True, gluc_ext=False, lac=True, lac_ext=True, laci=False, lacy=True, rna=True\n",
      "344\n",
      "State: allolac=True, camp=True, camp_cap=True, cap=True, gluc_ext=True, lac=True, lac_ext=True, laci=False, lacy=True, rna=True\n",
      "29\n",
      "State: allolac=True, camp=True, camp_cap=True, cap=True, gluc_ext=False, lac=True, lac_ext=True, laci=False, lacy=True, rna=True\n"
     ]
    }
   ],
   "source": [
    "def part_simulator():\n",
    "    \"\"\"Just simulate some states.\"\"\"\n",
    "    global text\n",
    "    # nodes to overexpress (set True)\n",
    "    ox = ['camp']\n",
    "    # nodes to knockout (set to false, updating rule removed)\n",
    "    ko = ['laci']\n",
    "    # do it\n",
    "    text = b2.modify_states(text, turnon=ox, turnoff=ko)\n",
    "    seen = {}\n",
    "    for i in range(512):\n",
    "        model = b2.Model(text=text, mode='sync')\n",
    "        model.initialize()\n",
    "        model.iterate(10)\n",
    "        key = model.first.fp()\n",
    "        if key in (29,344,366,80):\n",
    "            print(key)\n",
    "            print(model.first)\n",
    "        size, _ = model.detect_cycles()\n",
    "        values = [ x.fp() for x in model.states]\n",
    "        seen[key] = (size, values)\n",
    "    return seen\n",
    "\n",
    "seen = part_simulator()"
   ]
  },
  {
   "cell_type": "code",
   "execution_count": 279,
   "metadata": {},
   "outputs": [
    {
     "name": "stdout",
     "output_type": "stream",
     "text": [
      "55\n",
      "State: allolac=False, camp=False, camp_cap=False, cap=True, gluc_ext=True, lac=False, lac_ext=False, laci=True, lacy=False, rna=False\n",
      "29\n",
      "State: allolac=True, camp=True, camp_cap=True, cap=True, gluc_ext=False, lac=True, lac_ext=True, laci=False, lacy=True, rna=True\n",
      "29\n",
      "State: allolac=True, camp=True, camp_cap=True, cap=True, gluc_ext=False, lac=True, lac_ext=True, laci=False, lacy=True, rna=True\n",
      "21\n",
      "State: allolac=True, camp=False, camp_cap=False, cap=True, gluc_ext=True, lac=True, lac_ext=True, laci=False, lacy=False, rna=False\n",
      "21\n",
      "State: allolac=True, camp=False, camp_cap=False, cap=True, gluc_ext=True, lac=True, lac_ext=True, laci=False, lacy=False, rna=False\n",
      "41\n",
      "State: allolac=False, camp=True, camp_cap=True, cap=True, gluc_ext=False, lac=False, lac_ext=False, laci=True, lacy=False, rna=False\n",
      "41\n",
      "State: allolac=False, camp=True, camp_cap=True, cap=True, gluc_ext=False, lac=False, lac_ext=False, laci=True, lacy=False, rna=False\n"
     ]
    }
   ],
   "source": [
    "def full_simulator(initializer): \n",
    "    \"\"\"Try to simulate all possible starting states...\"\"\"\n",
    "    initializer = state.all_initial_states(model.nodes, limit=None)\n",
    "    seen = {}\n",
    "    for data, initfunc in initializer:\n",
    "        model.initialize(missing=initfunc)\n",
    "        key = model.first.fp()\n",
    "        model.iterate(10)\n",
    "        size, _ = model.detect_cycles()\n",
    "        values = [ x.fp() for x in model.states]\n",
    "        seen[key] = (size, values)\n",
    "    return seen\n",
    "\n",
    "seen = full_simulator(initializer)"
   ]
  },
  {
   "cell_type": "code",
   "execution_count": 308,
   "metadata": {},
   "outputs": [
    {
     "name": "stdout",
     "output_type": "stream",
     "text": [
      "Start: 518 -> (2, [518, 33, 29, 29, 29, 29, 29, 29, 29, 29, 29])\n",
      "Start: 520 -> (5, [520, 482, 527, 231, 261, 344, 344, 344, 344, 344, 344])\n",
      "Start: 522 -> (2, [522, 261, 344, 344, 344, 344, 344, 344, 344, 344, 344])\n",
      "Start: 527 -> (3, [527, 231, 261, 344, 344, 344, 344, 344, 344, 344, 344])\n",
      "Start: 529 -> (3, [529, 104, 28, 29, 29, 29, 29, 29, 29, 29, 29])\n",
      "Start: 26 -> (3, [26, 27, 28, 29, 29, 29, 29, 29, 29, 29, 29])\n",
      "Start: 27 -> (2, [27, 28, 29, 29, 29, 29, 29, 29, 29, 29, 29])\n",
      "Start: 28 -> (1, [28, 29, 29, 29, 29, 29, 29, 29, 29, 29, 29])\n",
      "Start: 29 -> (0, [29, 29, 29, 29, 29, 29, 29, 29, 29, 29, 29])\n",
      "Start: 32 -> (2, [32, 33, 29, 29, 29, 29, 29, 29, 29, 29, 29])\n",
      "Start: 33 -> (1, [33, 29, 29, 29, 29, 29, 29, 29, 29, 29, 29])\n",
      "Start: 35 -> (2, [35, 28, 29, 29, 29, 29, 29, 29, 29, 29, 29])\n",
      "Start: 43 -> (3, [43, 27, 28, 29, 29, 29, 29, 29, 29, 29, 29])\n",
      "Start: 44 -> (3, [44, 38, 88, 80, 80, 80, 80, 80, 80, 80, 80])\n",
      "Start: 45 -> (2, [45, 46, 29, 29, 29, 29, 29, 29, 29, 29, 29])\n",
      "Start: 46 -> (1, [46, 29, 29, 29, 29, 29, 29, 29, 29, 29, 29])\n",
      "Start: 47 -> (4, [47, 527, 231, 261, 344, 344, 344, 344, 344, 344, 344])\n",
      "Start: 59 -> (4, [59, 364, 522, 261, 344, 344, 344, 344, 344, 344, 344])\n",
      "Start: 65 -> (2, [65, 88, 80, 80, 80, 80, 80, 80, 80, 80, 80])\n",
      "Start: 69 -> (3, [69, 35, 28, 29, 29, 29, 29, 29, 29, 29, 29])\n",
      "Start: 76 -> (2, [76, 33, 29, 29, 29, 29, 29, 29, 29, 29, 29])\n",
      "Start: 78 -> (2, [78, 79, 80, 80, 80, 80, 80, 80, 80, 80, 80])\n",
      "Start: 79 -> (1, [79, 80, 80, 80, 80, 80, 80, 80, 80, 80, 80])\n",
      "Start: 80 -> (0, [80, 80, 80, 80, 80, 80, 80, 80, 80, 80, 80])\n",
      "Start: 83 -> (3, [83, 27, 28, 29, 29, 29, 29, 29, 29, 29, 29])\n",
      "Start: 87 -> (2, [87, 88, 80, 80, 80, 80, 80, 80, 80, 80, 80])\n",
      "Start: 88 -> (1, [88, 80, 80, 80, 80, 80, 80, 80, 80, 80, 80])\n",
      "Start: 89 -> (3, [89, 90, 28, 29, 29, 29, 29, 29, 29, 29, 29])\n",
      "Start: 90 -> (2, [90, 28, 29, 29, 29, 29, 29, 29, 29, 29, 29])\n",
      "Start: 92 -> (3, [92, 305, 336, 366, 366, 366, 366, 366, 366, 366, 366])\n",
      "Start: 104 -> (2, [104, 28, 29, 29, 29, 29, 29, 29, 29, 29, 29])\n",
      "Start: 110 -> (5, [110, 47, 527, 231, 261, 344, 344, 344, 344, 344, 344])\n",
      "Start: 114 -> (2, [114, 401, 366, 366, 366, 366, 366, 366, 366, 366, 366])\n",
      "Start: 116 -> (4, [116, 250, 231, 261, 344, 344, 344, 344, 344, 344, 344])\n",
      "Start: 120 -> (3, [120, 65, 88, 80, 80, 80, 80, 80, 80, 80, 80])\n",
      "Start: 123 -> (3, [123, 124, 88, 80, 80, 80, 80, 80, 80, 80, 80])\n",
      "Start: 124 -> (2, [124, 88, 80, 80, 80, 80, 80, 80, 80, 80, 80])\n",
      "Start: 130 -> (3, [130, 124, 88, 80, 80, 80, 80, 80, 80, 80, 80])\n",
      "Start: 131 -> (4, [131, 364, 522, 261, 344, 344, 344, 344, 344, 344, 344])\n",
      "Start: 144 -> (3, [144, 65, 88, 80, 80, 80, 80, 80, 80, 80, 80])\n",
      "Start: 175 -> (3, [175, 35, 28, 29, 29, 29, 29, 29, 29, 29, 29])\n",
      "Start: 182 -> (3, [182, 27, 28, 29, 29, 29, 29, 29, 29, 29, 29])\n",
      "Start: 183 -> (3, [183, 87, 88, 80, 80, 80, 80, 80, 80, 80, 80])\n",
      "Start: 187 -> (5, [187, 59, 364, 522, 261, 344, 344, 344, 344, 344, 344])\n",
      "Start: 188 -> (5, [188, 470, 250, 231, 261, 344, 344, 344, 344, 344, 344])\n",
      "Start: 196 -> (3, [196, 38, 88, 80, 80, 80, 80, 80, 80, 80, 80])\n",
      "Start: 204 -> (3, [204, 38, 88, 80, 80, 80, 80, 80, 80, 80, 80])\n",
      "Start: 207 -> (3, [207, 65, 88, 80, 80, 80, 80, 80, 80, 80, 80])\n",
      "Start: 211 -> (3, [211, 38, 88, 80, 80, 80, 80, 80, 80, 80, 80])\n",
      "Start: 216 -> (5, [216, 470, 250, 231, 261, 344, 344, 344, 344, 344, 344])\n",
      "Start: 221 -> (3, [221, 367, 336, 366, 366, 366, 366, 366, 366, 366, 366])\n",
      "Start: 222 -> (2, [222, 326, 80, 80, 80, 80, 80, 80, 80, 80, 80])\n",
      "Start: 231 -> (2, [231, 261, 344, 344, 344, 344, 344, 344, 344, 344, 344])\n",
      "Start: 233 -> (5, [233, 116, 250, 231, 261, 344, 344, 344, 344, 344, 344])\n",
      "Start: 235 -> (3, [235, 65, 88, 80, 80, 80, 80, 80, 80, 80, 80])\n",
      "Start: 240 -> (3, [240, 87, 88, 80, 80, 80, 80, 80, 80, 80, 80])\n",
      "Start: 242 -> (3, [242, 488, 336, 366, 366, 366, 366, 366, 366, 366, 366])\n",
      "Start: 243 -> (2, [243, 448, 366, 366, 366, 366, 366, 366, 366, 366, 366])\n",
      "Start: 244 -> (5, [244, 116, 250, 231, 261, 344, 344, 344, 344, 344, 344])\n",
      "Start: 250 -> (3, [250, 231, 261, 344, 344, 344, 344, 344, 344, 344, 344])\n",
      "Start: 252 -> (2, [252, 336, 366, 366, 366, 366, 366, 366, 366, 366, 366])\n",
      "Start: 261 -> (1, [261, 344, 344, 344, 344, 344, 344, 344, 344, 344, 344])\n",
      "Start: 265 -> (4, [265, 441, 522, 261, 344, 344, 344, 344, 344, 344, 344])\n",
      "Start: 269 -> (3, [269, 90, 28, 29, 29, 29, 29, 29, 29, 29, 29])\n",
      "Start: 271 -> (3, [271, 35, 28, 29, 29, 29, 29, 29, 29, 29, 29])\n",
      "Start: 272 -> (3, [272, 252, 336, 366, 366, 366, 366, 366, 366, 366, 366])\n",
      "Start: 273 -> (2, [273, 401, 366, 366, 366, 366, 366, 366, 366, 366, 366])\n",
      "Start: 283 -> (3, [283, 305, 336, 366, 366, 366, 366, 366, 366, 366, 366])\n",
      "Start: 286 -> (3, [286, 35, 28, 29, 29, 29, 29, 29, 29, 29, 29])\n",
      "Start: 287 -> (2, [287, 401, 366, 366, 366, 366, 366, 366, 366, 366, 366])\n",
      "Start: 297 -> (5, [297, 375, 441, 522, 261, 344, 344, 344, 344, 344, 344])\n",
      "Start: 298 -> (3, [298, 124, 88, 80, 80, 80, 80, 80, 80, 80, 80])\n",
      "Start: 302 -> (3, [302, 87, 88, 80, 80, 80, 80, 80, 80, 80, 80])\n",
      "Start: 305 -> (2, [305, 336, 366, 366, 366, 366, 366, 366, 366, 366, 366])\n",
      "Start: 323 -> (2, [323, 79, 80, 80, 80, 80, 80, 80, 80, 80, 80])\n",
      "Start: 326 -> (1, [326, 80, 80, 80, 80, 80, 80, 80, 80, 80, 80])\n",
      "Start: 328 -> (3, [328, 305, 336, 366, 366, 366, 366, 366, 366, 366, 366])\n",
      "Start: 329 -> (3, [329, 367, 336, 366, 366, 366, 366, 366, 366, 366, 366])\n",
      "Start: 331 -> (5, [331, 47, 527, 231, 261, 344, 344, 344, 344, 344, 344])\n",
      "Start: 336 -> (1, [336, 366, 366, 366, 366, 366, 366, 366, 366, 366, 366])\n",
      "Start: 338 -> (3, [338, 90, 28, 29, 29, 29, 29, 29, 29, 29, 29])\n",
      "Start: 343 -> (3, [343, 367, 336, 366, 366, 366, 366, 366, 366, 366, 366])\n",
      "Start: 344 -> (0, [344, 344, 344, 344, 344, 344, 344, 344, 344, 344, 344])\n",
      "Start: 355 -> (5, [355, 375, 441, 522, 261, 344, 344, 344, 344, 344, 344])\n",
      "Start: 360 -> (2, [360, 326, 80, 80, 80, 80, 80, 80, 80, 80, 80])\n",
      "Start: 364 -> (3, [364, 522, 261, 344, 344, 344, 344, 344, 344, 344, 344])\n",
      "Start: 366 -> (0, [366, 366, 366, 366, 366, 366, 366, 366, 366, 366, 366])\n",
      "Start: 367 -> (2, [367, 336, 366, 366, 366, 366, 366, 366, 366, 366, 366])\n",
      "Start: 372 -> (3, [372, 104, 28, 29, 29, 29, 29, 29, 29, 29, 29])\n",
      "Start: 373 -> (2, [373, 46, 29, 29, 29, 29, 29, 29, 29, 29, 29])\n",
      "Start: 375 -> (4, [375, 441, 522, 261, 344, 344, 344, 344, 344, 344, 344])\n",
      "Start: 382 -> (3, [382, 252, 336, 366, 366, 366, 366, 366, 366, 366, 366])\n",
      "Start: 388 -> (2, [388, 33, 29, 29, 29, 29, 29, 29, 29, 29, 29])\n",
      "Start: 390 -> (3, [390, 87, 88, 80, 80, 80, 80, 80, 80, 80, 80])\n",
      "Start: 392 -> (3, [392, 252, 336, 366, 366, 366, 366, 366, 366, 366, 366])\n",
      "Start: 399 -> (3, [399, 488, 336, 366, 366, 366, 366, 366, 366, 366, 366])\n",
      "Start: 401 -> (1, [401, 366, 366, 366, 366, 366, 366, 366, 366, 366, 366])\n",
      "Start: 404 -> (3, [404, 124, 88, 80, 80, 80, 80, 80, 80, 80, 80])\n",
      "Start: 407 -> (3, [407, 90, 28, 29, 29, 29, 29, 29, 29, 29, 29])\n",
      "Start: 412 -> (2, [412, 448, 366, 366, 366, 366, 366, 366, 366, 366, 366])\n",
      "Start: 419 -> (5, [419, 59, 364, 522, 261, 344, 344, 344, 344, 344, 344])\n",
      "Start: 420 -> (2, [420, 448, 366, 366, 366, 366, 366, 366, 366, 366, 366])\n",
      "Start: 422 -> (2, [422, 46, 29, 29, 29, 29, 29, 29, 29, 29, 29])\n",
      "Start: 426 -> (2, [426, 401, 366, 366, 366, 366, 366, 366, 366, 366, 366])\n",
      "Start: 437 -> (3, [437, 488, 336, 366, 366, 366, 366, 366, 366, 366, 366])\n",
      "Start: 439 -> (2, [439, 326, 80, 80, 80, 80, 80, 80, 80, 80, 80])\n",
      "Start: 441 -> (3, [441, 522, 261, 344, 344, 344, 344, 344, 344, 344, 344])\n",
      "Start: 442 -> (5, [442, 131, 364, 522, 261, 344, 344, 344, 344, 344, 344])\n",
      "Start: 443 -> (5, [443, 265, 441, 522, 261, 344, 344, 344, 344, 344, 344])\n",
      "Start: 448 -> (1, [448, 366, 366, 366, 366, 366, 366, 366, 366, 366, 366])\n",
      "Start: 452 -> (3, [452, 104, 28, 29, 29, 29, 29, 29, 29, 29, 29])\n",
      "Start: 470 -> (4, [470, 250, 231, 261, 344, 344, 344, 344, 344, 344, 344])\n",
      "Start: 471 -> (3, [471, 305, 336, 366, 366, 366, 366, 366, 366, 366, 366])\n",
      "Start: 472 -> (2, [472, 448, 366, 366, 366, 366, 366, 366, 366, 366, 366])\n",
      "Start: 482 -> (4, [482, 527, 231, 261, 344, 344, 344, 344, 344, 344, 344])\n",
      "Start: 486 -> (3, [486, 104, 28, 29, 29, 29, 29, 29, 29, 29, 29])\n",
      "Start: 488 -> (2, [488, 336, 366, 366, 366, 366, 366, 366, 366, 366, 366])\n",
      "Start: 492 -> (5, [492, 265, 441, 522, 261, 344, 344, 344, 344, 344, 344])\n",
      "Start: 495 -> (3, [495, 252, 336, 366, 366, 366, 366, 366, 366, 366, 366])\n",
      "Start: 496 -> (5, [496, 482, 527, 231, 261, 344, 344, 344, 344, 344, 344])\n",
      "Start: 497 -> (5, [497, 131, 364, 522, 261, 344, 344, 344, 344, 344, 344])\n",
      "Start: 502 -> (2, [502, 46, 29, 29, 29, 29, 29, 29, 29, 29, 29])\n",
      "Start: 505 -> (3, [505, 488, 336, 366, 366, 366, 366, 366, 366, 366, 366])\n",
      "Start: 506 -> (2, [506, 326, 80, 80, 80, 80, 80, 80, 80, 80, 80])\n",
      "Start: 509 -> (3, [509, 367, 336, 366, 366, 366, 366, 366, 366, 366, 366])\n",
      "set([344, 80, 29, 366])\n"
     ]
    }
   ],
   "source": [
    "# length of the cycle, and index at which the cycle began. Index is always 1 here.\n",
    "# no cycle longer than 7, so we can reduce the iterations to ~10\n",
    "# but, if there are multiple distinct cycles of same length and index, we will miss them here.\n",
    "attractors = set()\n",
    "for first, values in list(seen.items()):\n",
    "    print('Start: %s -> %s' % (first, values))\n",
    "    attractors.add(values[-1][-1])\n",
    "print(attractors)"
   ]
  },
  {
   "cell_type": "code",
   "execution_count": 284,
   "metadata": {},
   "outputs": [
    {
     "name": "stderr",
     "output_type": "stream",
     "text": [
      "/home/kian/.conda/envs/py2/lib/python2.7/site-packages/matplotlib/legend.py:937: UserWarning: Legend does not support [<matplotlib.lines.Line2D object at 0x7f0275c603d0>] instances.\n",
      "A proxy artist may be used instead.\n",
      "See: http://matplotlib.org/users/legend_guide.html#creating-artists-specifically-for-adding-to-the-legend-aka-proxy-artists\n",
      "  \"aka-proxy-artists\".format(orig_handle)\n"
     ]
    },
    {
     "data": {
      "image/png": "[encoded data removed]",
      "text/plain": [
       "<Figure size 432x288 with 1 Axes>"
      ]
     },
     "metadata": {
      "needs_background": "light"
     },
     "output_type": "display_data"
    }
   ],
   "source": [
    "#plot results\n",
    "p1 = pylab.plot( model.data[\"rna\"] , 'ob-' )\n",
    "pylab.legend( [p1], [\"rna\"])\n",
    "pylab.ylim((-0.1,1.1))\n",
    "pylab.show()   "
   ]
  },
  {
   "cell_type": "code",
   "execution_count": null,
   "metadata": {},
   "outputs": [],
   "source": []
  }
 ],
 "metadata": {
  "kernelspec": {
   "display_name": "Python 2",
   "language": "python",
   "name": "python2"
  },
  "language_info": {
   "codemirror_mode": {
    "name": "ipython",
    "version": 2
   },
   "file_extension": ".py",
   "mimetype": "text/x-python",
   "name": "python",
   "nbconvert_exporter": "python",
   "pygments_lexer": "ipython2",
   "version": "2.7.15"
  }
 },
 "nbformat": 4,
 "nbformat_minor": 2
}
